{
 "cells": [
  {
   "cell_type": "code",
   "execution_count": 1,
   "id": "302c43f8-5ff4-43fd-90ef-9f6a8270735d",
   "metadata": {},
   "outputs": [],
   "source": [
    "import matplotlib.pyplot as plt\n",
    "import random\n",
    "import heapq\n",
    "import math\n",
    "import sys\n",
    "from collections import defaultdict, deque, Counter\n",
    "from itertools import combinations"
   ]
  },
  {
   "cell_type": "code",
   "execution_count": null,
   "id": "639dd987-552c-43c5-99c9-cb4ee63d47aa",
   "metadata": {},
   "outputs": [],
   "source": [
    "class Problem(object):\n",
    "    \n",
    "    def __init__(self, initial=None, goal=None, **kwds):\n",
    "        self.__dict__.update(initial=initial, goal_goal, **kwds)\n",
    "        \n",
    "    def actions(self, state):\n",
    "        raise NotImplementedError\n",
    "        \n",
    "    def result(self, state, action):\n",
    "        raise NotImplementedError\n",
    "        \n",
    "    def is_goal(self, state):\n",
    "        return state == self.goal\n",
    "    \n",
    "    def action_cost(self, s, a, s1):\n",
    "        return 1\n",
    "    \n",
    "    def h(self, node):\n",
    "        return 0\n",
    "    \n",
    "    def __str__(self):\n",
    "        return '{}({!r}, {!r})'.format(type(self).__name__, self.initial, self.goal)\n",
    "    \n"
   ]
  }
 ],
 "metadata": {
  "kernelspec": {
   "display_name": "Python 3",
   "language": "python",
   "name": "python3"
  },
  "language_info": {
   "codemirror_mode": {
    "name": "ipython",
    "version": 3
   },
   "file_extension": ".py",
   "mimetype": "text/x-python",
   "name": "python",
   "nbconvert_exporter": "python",
   "pygments_lexer": "ipython3",
   "version": "3.8.10"
  }
 },
 "nbformat": 4,
 "nbformat_minor": 5
}

{
 "cells": [
  {
   "cell_type": "code",
   "execution_count": 1,
   "id": "17fd1443-9948-416f-9b0d-7ceb314ac4c2",
   "metadata": {},
   "outputs": [],
   "source": [
    "import numpy as np\n",
    "import polars as pl\n",
    "import lightgbm as lgb\n",
    "import itertools\n",
    "import glob\n",
    "import os\n",
    "import copy\n",
    "\n",
    "from pathlib import Path\n",
    "from sklearn.model_selection import train_test_split"
   ]
  },
  {
   "cell_type": "code",
   "execution_count": 2,
   "id": "36cdfddc-be03-438a-9404-11d895170f47",
   "metadata": {},
   "outputs": [],
   "source": [
    "feature_cols = [f'feature_{x:02}' for x in range(79)]\n",
    "responder_cols = [f'responder_{i}' for i in range(9)]\n",
    "responder_lags = [f'responder_{i}_lag_1' for i in range(9)]"
   ]
  },
  {
   "cell_type": "code",
   "execution_count": 3,
   "id": "ad9a4cca-398b-4751-988a-107bd239f9dd",
   "metadata": {},
   "outputs": [],
   "source": [
    "# ../../../dataset/jane-street-real-time-market-data-forecasting/\n",
    "DATA_DIR = Path('../../../dataset/')\n",
    "N_PATITION = 10"
   ]
  },
  {
   "cell_type": "code",
   "execution_count": 4,
   "id": "f6f415b7-c015-4c65-bd24-fcab9c09a0b0",
   "metadata": {},
   "outputs": [],
   "source": [
    "class CONFIG:\n",
    "    seed = 42\n",
    "    target_col = \"responder_6\"\n",
    "    feature_cols = [\"symbol_id\", \"time_id\"] + [f\"feature_{idx:02d}\" for idx in range(79)]+ [f\"responder_{idx}_1\" for idx in range(9)]\n",
    "    all_cols =  [\"date_id\",\"time_id\", \"symbol_id\", \"weight\"] + [f\"feature_{idx:02d}\" for idx in range(79)]+ [f\"responder_{idx}\" for idx in range(9)] + [target_col]\n",
    "\n",
    "    data_paths = [\n",
    "        \"../../../dataset/jane-street-real-time-market-data-forecasting/train.parquet/\",\n",
    "    ]"
   ]
  },
  {
   "cell_type": "code",
   "execution_count": null,
   "id": "6cbd478b-5771-4dc4-8600-481b7559ecb0",
   "metadata": {},
   "outputs": [],
   "source": [
    "pl_train = pl.concat(\n",
    "    [pl.read_parquet(_f) for _f in glob.glob(os.path.join(CONFIG.data_paths[0], '*/*parquet'))]\n",
    ")"
   ]
  },
  {
   "cell_type": "code",
   "execution_count": 5,
   "id": "66e9c0c0-71ff-4ea0-a79b-769346374476",
   "metadata": {},
   "outputs": [
    {
     "data": {
      "text/html": [
       "<div><style>\n",
       ".dataframe > thead > tr,\n",
       ".dataframe > tbody > tr {\n",
       "  text-align: right;\n",
       "  white-space: pre-wrap;\n",
       "}\n",
       "</style>\n",
       "<small>shape: (1_944_210, 92)</small><table border=\"1\" class=\"dataframe\"><thead><tr><th>date_id</th><th>time_id</th><th>symbol_id</th><th>weight</th><th>feature_00</th><th>feature_01</th><th>feature_02</th><th>feature_03</th><th>feature_04</th><th>feature_05</th><th>feature_06</th><th>feature_07</th><th>feature_08</th><th>feature_09</th><th>feature_10</th><th>feature_11</th><th>feature_12</th><th>feature_13</th><th>feature_14</th><th>feature_15</th><th>feature_16</th><th>feature_17</th><th>feature_18</th><th>feature_19</th><th>feature_20</th><th>feature_21</th><th>feature_22</th><th>feature_23</th><th>feature_24</th><th>feature_25</th><th>feature_26</th><th>feature_27</th><th>feature_28</th><th>feature_29</th><th>feature_30</th><th>feature_31</th><th>feature_32</th><th>&hellip;</th><th>feature_51</th><th>feature_52</th><th>feature_53</th><th>feature_54</th><th>feature_55</th><th>feature_56</th><th>feature_57</th><th>feature_58</th><th>feature_59</th><th>feature_60</th><th>feature_61</th><th>feature_62</th><th>feature_63</th><th>feature_64</th><th>feature_65</th><th>feature_66</th><th>feature_67</th><th>feature_68</th><th>feature_69</th><th>feature_70</th><th>feature_71</th><th>feature_72</th><th>feature_73</th><th>feature_74</th><th>feature_75</th><th>feature_76</th><th>feature_77</th><th>feature_78</th><th>responder_0</th><th>responder_1</th><th>responder_2</th><th>responder_3</th><th>responder_4</th><th>responder_5</th><th>responder_6</th><th>responder_7</th><th>responder_8</th></tr><tr><td>i16</td><td>i16</td><td>i8</td><td>f32</td><td>f32</td><td>f32</td><td>f32</td><td>f32</td><td>f32</td><td>f32</td><td>f32</td><td>f32</td><td>f32</td><td>i8</td><td>i8</td><td>i16</td><td>f32</td><td>f32</td><td>f32</td><td>f32</td><td>f32</td><td>f32</td><td>f32</td><td>f32</td><td>f32</td><td>f32</td><td>f32</td><td>f32</td><td>f32</td><td>f32</td><td>f32</td><td>f32</td><td>f32</td><td>f32</td><td>f32</td><td>f32</td><td>f32</td><td>&hellip;</td><td>f32</td><td>f32</td><td>f32</td><td>f32</td><td>f32</td><td>f32</td><td>f32</td><td>f32</td><td>f32</td><td>f32</td><td>f32</td><td>f32</td><td>f32</td><td>f32</td><td>f32</td><td>f32</td><td>f32</td><td>f32</td><td>f32</td><td>f32</td><td>f32</td><td>f32</td><td>f32</td><td>f32</td><td>f32</td><td>f32</td><td>f32</td><td>f32</td><td>f32</td><td>f32</td><td>f32</td><td>f32</td><td>f32</td><td>f32</td><td>f32</td><td>f32</td><td>f32</td></tr></thead><tbody><tr><td>0</td><td>0</td><td>1</td><td>3.889038</td><td>null</td><td>null</td><td>null</td><td>null</td><td>null</td><td>0.851033</td><td>0.242971</td><td>0.2634</td><td>-0.891687</td><td>11</td><td>7</td><td>76</td><td>-0.883028</td><td>0.003067</td><td>-0.744703</td><td>null</td><td>-0.169586</td><td>null</td><td>-1.335938</td><td>-1.707803</td><td>0.91013</td><td>null</td><td>1.636431</td><td>1.522133</td><td>-1.551398</td><td>-0.229627</td><td>null</td><td>null</td><td>1.378301</td><td>-0.283712</td><td>0.123196</td><td>null</td><td>null</td><td>&hellip;</td><td>0.204797</td><td>null</td><td>null</td><td>-0.808103</td><td>null</td><td>-2.037683</td><td>0.727661</td><td>null</td><td>-0.989118</td><td>-0.345213</td><td>-1.36224</td><td>null</td><td>null</td><td>null</td><td>null</td><td>null</td><td>-1.251104</td><td>-0.110252</td><td>-0.491157</td><td>-1.02269</td><td>0.152241</td><td>-0.659864</td><td>null</td><td>null</td><td>-0.261412</td><td>-0.211486</td><td>-0.335556</td><td>-0.281498</td><td>0.738489</td><td>-0.069556</td><td>1.380875</td><td>2.005353</td><td>0.186018</td><td>1.218368</td><td>0.775981</td><td>0.346999</td><td>0.095504</td></tr><tr><td>0</td><td>0</td><td>7</td><td>1.370613</td><td>null</td><td>null</td><td>null</td><td>null</td><td>null</td><td>0.676961</td><td>0.151984</td><td>0.192465</td><td>-0.521729</td><td>11</td><td>7</td><td>76</td><td>-0.865307</td><td>-0.225629</td><td>-0.582163</td><td>null</td><td>0.317467</td><td>null</td><td>-1.250016</td><td>-1.682929</td><td>1.412757</td><td>null</td><td>0.520378</td><td>0.744132</td><td>-0.788658</td><td>0.641776</td><td>null</td><td>null</td><td>0.2272</td><td>0.580907</td><td>1.128879</td><td>null</td><td>null</td><td>&hellip;</td><td>1.172836</td><td>null</td><td>null</td><td>-1.625862</td><td>null</td><td>-1.410017</td><td>1.063013</td><td>null</td><td>0.888355</td><td>0.467994</td><td>-1.36224</td><td>null</td><td>null</td><td>null</td><td>null</td><td>null</td><td>-1.065759</td><td>0.013322</td><td>-0.592855</td><td>-1.052685</td><td>-0.393726</td><td>-0.741603</td><td>null</td><td>null</td><td>-0.281207</td><td>-0.182894</td><td>-0.245565</td><td>-0.302441</td><td>2.965889</td><td>1.190077</td><td>-0.523998</td><td>3.849921</td><td>2.626981</td><td>5.0</td><td>0.703665</td><td>0.216683</td><td>0.778639</td></tr><tr><td>0</td><td>0</td><td>9</td><td>2.285698</td><td>null</td><td>null</td><td>null</td><td>null</td><td>null</td><td>1.056285</td><td>0.187227</td><td>0.249901</td><td>-0.77305</td><td>11</td><td>7</td><td>76</td><td>-0.675719</td><td>-0.199404</td><td>-0.586798</td><td>null</td><td>-0.814909</td><td>null</td><td>-1.296782</td><td>-2.040234</td><td>0.639589</td><td>null</td><td>1.597359</td><td>0.657514</td><td>-1.350148</td><td>0.364215</td><td>null</td><td>null</td><td>-0.017751</td><td>-0.317361</td><td>-0.122379</td><td>null</td><td>null</td><td>&hellip;</td><td>0.535897</td><td>null</td><td>null</td><td>-0.72542</td><td>null</td><td>-2.29417</td><td>1.764551</td><td>null</td><td>-0.120789</td><td>-0.063458</td><td>-1.36224</td><td>null</td><td>null</td><td>null</td><td>null</td><td>null</td><td>-0.882604</td><td>-0.072482</td><td>-0.617934</td><td>-0.86323</td><td>-0.241892</td><td>-0.709919</td><td>null</td><td>null</td><td>0.377131</td><td>0.300724</td><td>-0.106842</td><td>-0.096792</td><td>-0.864488</td><td>-0.280303</td><td>-0.326697</td><td>0.375781</td><td>1.271291</td><td>0.099793</td><td>2.109352</td><td>0.670881</td><td>0.772828</td></tr><tr><td>0</td><td>0</td><td>10</td><td>0.690606</td><td>null</td><td>null</td><td>null</td><td>null</td><td>null</td><td>1.139366</td><td>0.273328</td><td>0.306549</td><td>-1.262223</td><td>42</td><td>5</td><td>150</td><td>-0.694008</td><td>3.004091</td><td>0.114809</td><td>null</td><td>-0.251882</td><td>null</td><td>-1.902009</td><td>-0.979447</td><td>0.241165</td><td>null</td><td>-0.392359</td><td>-0.224699</td><td>-2.129397</td><td>-0.855287</td><td>null</td><td>null</td><td>0.404142</td><td>-0.578156</td><td>0.105702</td><td>null</td><td>null</td><td>&hellip;</td><td>2.413415</td><td>null</td><td>null</td><td>1.313203</td><td>null</td><td>-0.810125</td><td>2.939022</td><td>null</td><td>3.988801</td><td>1.834661</td><td>-1.36224</td><td>null</td><td>null</td><td>null</td><td>null</td><td>null</td><td>-0.697595</td><td>1.074309</td><td>-0.206929</td><td>-0.530602</td><td>4.765215</td><td>0.571554</td><td>null</td><td>null</td><td>-0.226891</td><td>-0.251412</td><td>-0.215522</td><td>-0.296244</td><td>0.408499</td><td>0.223992</td><td>2.294888</td><td>1.097444</td><td>1.225872</td><td>1.225376</td><td>1.114137</td><td>0.775199</td><td>-1.379516</td></tr><tr><td>0</td><td>0</td><td>14</td><td>0.44057</td><td>null</td><td>null</td><td>null</td><td>null</td><td>null</td><td>0.9552</td><td>0.262404</td><td>0.344457</td><td>-0.613813</td><td>44</td><td>3</td><td>16</td><td>-0.947351</td><td>-0.030018</td><td>-0.502379</td><td>null</td><td>0.646086</td><td>null</td><td>-1.844685</td><td>-1.58656</td><td>-0.182024</td><td>null</td><td>-0.969949</td><td>-0.673813</td><td>-1.282132</td><td>-1.399894</td><td>null</td><td>null</td><td>0.043815</td><td>-0.320225</td><td>-0.031713</td><td>null</td><td>null</td><td>&hellip;</td><td>1.253902</td><td>null</td><td>null</td><td>0.476195</td><td>null</td><td>-0.771732</td><td>2.843421</td><td>null</td><td>1.379815</td><td>0.411827</td><td>-1.36224</td><td>null</td><td>null</td><td>null</td><td>null</td><td>null</td><td>-0.948601</td><td>-0.136814</td><td>-0.447704</td><td>-1.141761</td><td>0.099631</td><td>-0.661928</td><td>null</td><td>null</td><td>3.678076</td><td>2.793581</td><td>2.61825</td><td>3.418133</td><td>-0.373387</td><td>-0.502764</td><td>-0.348021</td><td>-3.928148</td><td>-1.591366</td><td>-5.0</td><td>-3.57282</td><td>-1.089123</td><td>-5.0</td></tr><tr><td>&hellip;</td><td>&hellip;</td><td>&hellip;</td><td>&hellip;</td><td>&hellip;</td><td>&hellip;</td><td>&hellip;</td><td>&hellip;</td><td>&hellip;</td><td>&hellip;</td><td>&hellip;</td><td>&hellip;</td><td>&hellip;</td><td>&hellip;</td><td>&hellip;</td><td>&hellip;</td><td>&hellip;</td><td>&hellip;</td><td>&hellip;</td><td>&hellip;</td><td>&hellip;</td><td>&hellip;</td><td>&hellip;</td><td>&hellip;</td><td>&hellip;</td><td>&hellip;</td><td>&hellip;</td><td>&hellip;</td><td>&hellip;</td><td>&hellip;</td><td>&hellip;</td><td>&hellip;</td><td>&hellip;</td><td>&hellip;</td><td>&hellip;</td><td>&hellip;</td><td>&hellip;</td><td>&hellip;</td><td>&hellip;</td><td>&hellip;</td><td>&hellip;</td><td>&hellip;</td><td>&hellip;</td><td>&hellip;</td><td>&hellip;</td><td>&hellip;</td><td>&hellip;</td><td>&hellip;</td><td>&hellip;</td><td>&hellip;</td><td>&hellip;</td><td>&hellip;</td><td>&hellip;</td><td>&hellip;</td><td>&hellip;</td><td>&hellip;</td><td>&hellip;</td><td>&hellip;</td><td>&hellip;</td><td>&hellip;</td><td>&hellip;</td><td>&hellip;</td><td>&hellip;</td><td>&hellip;</td><td>&hellip;</td><td>&hellip;</td><td>&hellip;</td><td>&hellip;</td><td>&hellip;</td><td>&hellip;</td><td>&hellip;</td><td>&hellip;</td><td>&hellip;</td><td>&hellip;</td><td>&hellip;</td></tr><tr><td>169</td><td>848</td><td>19</td><td>3.438631</td><td>null</td><td>null</td><td>null</td><td>null</td><td>null</td><td>-0.028087</td><td>0.287438</td><td>0.118074</td><td>-0.644495</td><td>4</td><td>3</td><td>11</td><td>3.419741</td><td>0.997164</td><td>1.706084</td><td>-0.318914</td><td>-0.461119</td><td>-0.294792</td><td>1.929656</td><td>1.213011</td><td>1.16521</td><td>null</td><td>3.431933</td><td>0.792091</td><td>-0.961323</td><td>0.197048</td><td>null</td><td>null</td><td>0.258624</td><td>-0.538528</td><td>-0.306105</td><td>null</td><td>0.12894</td><td>&hellip;</td><td>-1.942191</td><td>0.445592</td><td>-1.414607</td><td>-1.362255</td><td>-0.760373</td><td>-0.199131</td><td>-2.412528</td><td>-1.033167</td><td>-2.285751</td><td>0.406769</td><td>0.300441</td><td>-0.072687</td><td>0.114416</td><td>0.200983</td><td>2.923207</td><td>1.137057</td><td>5.132564</td><td>0.726686</td><td>1.304514</td><td>3.247437</td><td>0.631181</td><td>2.437627</td><td>-0.341539</td><td>-0.360914</td><td>-0.267972</td><td>-0.253485</td><td>-0.147347</td><td>-0.166964</td><td>0.983339</td><td>-0.66986</td><td>0.272615</td><td>-3.676842</td><td>-1.221126</td><td>1.070584</td><td>0.465345</td><td>0.207483</td><td>0.874975</td></tr><tr><td>169</td><td>848</td><td>30</td><td>0.768528</td><td>null</td><td>null</td><td>null</td><td>null</td><td>null</td><td>-0.022584</td><td>0.442352</td><td>0.140746</td><td>-0.571057</td><td>81</td><td>2</td><td>534</td><td>0.385333</td><td>0.732816</td><td>0.155896</td><td>0.202543</td><td>0.930962</td><td>0.721754</td><td>-0.865098</td><td>0.108584</td><td>-0.640984</td><td>null</td><td>-0.876378</td><td>-1.044793</td><td>-1.282868</td><td>-0.355638</td><td>null</td><td>null</td><td>0.776003</td><td>-0.126703</td><td>0.290924</td><td>null</td><td>-0.123493</td><td>&hellip;</td><td>1.210106</td><td>0.012775</td><td>-0.743068</td><td>0.18959</td><td>0.866432</td><td>0.588312</td><td>-0.599171</td><td>0.269633</td><td>0.248799</td><td>0.33105</td><td>0.300441</td><td>1.796084</td><td>2.408884</td><td>1.916744</td><td>0.658252</td><td>0.340445</td><td>0.652627</td><td>-0.216905</td><td>-0.185448</td><td>0.521877</td><td>1.35906</td><td>0.494098</td><td>-0.20115</td><td>-0.289628</td><td>-0.476703</td><td>-0.373956</td><td>-0.356012</td><td>-0.35281</td><td>0.992615</td><td>0.961595</td><td>1.089402</td><td>0.796034</td><td>0.48838</td><td>1.846634</td><td>-0.088542</td><td>-0.008324</td><td>-0.153451</td></tr><tr><td>169</td><td>848</td><td>33</td><td>1.354696</td><td>null</td><td>null</td><td>null</td><td>null</td><td>null</td><td>-0.024804</td><td>0.420692</td><td>0.136259</td><td>-0.809642</td><td>11</td><td>7</td><td>76</td><td>-0.200244</td><td>-0.409379</td><td>-0.185599</td><td>0.234811</td><td>0.160243</td><td>0.110508</td><td>-0.959411</td><td>1.392733</td><td>2.161604</td><td>null</td><td>-0.219788</td><td>-0.040412</td><td>-1.940056</td><td>-0.637217</td><td>null</td><td>null</td><td>0.481473</td><td>-0.211353</td><td>0.417266</td><td>null</td><td>-0.111355</td><td>&hellip;</td><td>1.093185</td><td>1.355752</td><td>0.86659</td><td>-0.543416</td><td>-0.557341</td><td>1.018626</td><td>-0.53542</td><td>-0.299109</td><td>-0.135551</td><td>0.302495</td><td>0.300441</td><td>1.178458</td><td>1.963925</td><td>2.115989</td><td>2.300967</td><td>1.213972</td><td>-0.375353</td><td>-0.315288</td><td>-0.377317</td><td>-0.018499</td><td>-0.303676</td><td>0.042694</td><td>-0.304563</td><td>-0.274469</td><td>-0.339679</td><td>-0.301338</td><td>-0.323033</td><td>-0.239716</td><td>1.701618</td><td>0.757672</td><td>-5.0</td><td>-3.174266</td><td>-1.11079</td><td>-3.349107</td><td>-0.407801</td><td>-0.185842</td><td>-0.931004</td></tr><tr><td>169</td><td>848</td><td>34</td><td>1.021797</td><td>null</td><td>null</td><td>null</td><td>null</td><td>null</td><td>-0.016138</td><td>0.303561</td><td>0.14997</td><td>-0.727993</td><td>42</td><td>5</td><td>150</td><td>0.089536</td><td>-0.318639</td><td>0.229737</td><td>-0.359855</td><td>-0.135196</td><td>-0.361641</td><td>-1.061814</td><td>1.642337</td><td>0.124642</td><td>null</td><td>-0.523115</td><td>-0.88477</td><td>-1.407083</td><td>-0.564234</td><td>null</td><td>null</td><td>1.599255</td><td>-0.414362</td><td>-0.21513</td><td>null</td><td>-0.042788</td><td>&hellip;</td><td>0.002777</td><td>0.034642</td><td>0.414592</td><td>0.217866</td><td>-0.189608</td><td>1.401886</td><td>0.302604</td><td>0.711625</td><td>-0.181922</td><td>0.214608</td><td>0.300441</td><td>0.255725</td><td>0.576029</td><td>0.445959</td><td>-0.53101</td><td>1.331284</td><td>0.162807</td><td>-0.20295</td><td>0.06306</td><td>0.219878</td><td>-0.271476</td><td>0.315763</td><td>-0.519676</td><td>-0.716094</td><td>-0.497245</td><td>-0.320908</td><td>-0.486542</td><td>-0.442859</td><td>-2.036891</td><td>-0.064228</td><td>1.919665</td><td>1.827681</td><td>0.872019</td><td>3.248694</td><td>0.254584</td><td>0.090288</td><td>0.434726</td></tr><tr><td>169</td><td>848</td><td>38</td><td>1.570022</td><td>null</td><td>null</td><td>null</td><td>null</td><td>null</td><td>-0.017634</td><td>0.271368</td><td>0.128993</td><td>-0.611178</td><td>50</td><td>1</td><td>522</td><td>0.858832</td><td>2.573905</td><td>1.143107</td><td>-0.071363</td><td>0.14384</td><td>-0.015339</td><td>-0.791542</td><td>2.087125</td><td>1.837453</td><td>null</td><td>-0.051464</td><td>0.011945</td><td>-0.639944</td><td>0.34263</td><td>null</td><td>null</td><td>0.914254</td><td>-0.400201</td><td>-0.11904</td><td>null</td><td>0.013682</td><td>&hellip;</td><td>0.289495</td><td>-0.10213</td><td>0.188333</td><td>0.511473</td><td>-0.710926</td><td>0.661158</td><td>0.226204</td><td>0.044134</td><td>0.386667</td><td>0.087507</td><td>0.300441</td><td>-0.32837</td><td>-0.096137</td><td>-0.271381</td><td>-0.75118</td><td>2.268737</td><td>0.12411</td><td>0.063276</td><td>0.248291</td><td>2.183975</td><td>4.698049</td><td>3.342008</td><td>-0.18195</td><td>-0.143228</td><td>-0.194399</td><td>-0.230857</td><td>-0.219675</td><td>-0.174461</td><td>0.32323</td><td>0.018376</td><td>-3.457667</td><td>-0.305218</td><td>-0.181438</td><td>-0.791345</td><td>0.3474</td><td>0.241875</td><td>0.987731</td></tr></tbody></table></div>"
      ],
      "text/plain": [
       "shape: (1_944_210, 92)\n",
       "┌─────────┬─────────┬───────────┬──────────┬───┬────────────┬────────────┬────────────┬────────────┐\n",
       "│ date_id ┆ time_id ┆ symbol_id ┆ weight   ┆ … ┆ responder_ ┆ responder_ ┆ responder_ ┆ responder_ │\n",
       "│ ---     ┆ ---     ┆ ---       ┆ ---      ┆   ┆ 5          ┆ 6          ┆ 7          ┆ 8          │\n",
       "│ i16     ┆ i16     ┆ i8        ┆ f32      ┆   ┆ ---        ┆ ---        ┆ ---        ┆ ---        │\n",
       "│         ┆         ┆           ┆          ┆   ┆ f32        ┆ f32        ┆ f32        ┆ f32        │\n",
       "╞═════════╪═════════╪═══════════╪══════════╪═══╪════════════╪════════════╪════════════╪════════════╡\n",
       "│ 0       ┆ 0       ┆ 1         ┆ 3.889038 ┆ … ┆ 1.218368   ┆ 0.775981   ┆ 0.346999   ┆ 0.095504   │\n",
       "│ 0       ┆ 0       ┆ 7         ┆ 1.370613 ┆ … ┆ 5.0        ┆ 0.703665   ┆ 0.216683   ┆ 0.778639   │\n",
       "│ 0       ┆ 0       ┆ 9         ┆ 2.285698 ┆ … ┆ 0.099793   ┆ 2.109352   ┆ 0.670881   ┆ 0.772828   │\n",
       "│ 0       ┆ 0       ┆ 10        ┆ 0.690606 ┆ … ┆ 1.225376   ┆ 1.114137   ┆ 0.775199   ┆ -1.379516  │\n",
       "│ 0       ┆ 0       ┆ 14        ┆ 0.44057  ┆ … ┆ -5.0       ┆ -3.57282   ┆ -1.089123  ┆ -5.0       │\n",
       "│ …       ┆ …       ┆ …         ┆ …        ┆ … ┆ …          ┆ …          ┆ …          ┆ …          │\n",
       "│ 169     ┆ 848     ┆ 19        ┆ 3.438631 ┆ … ┆ 1.070584   ┆ 0.465345   ┆ 0.207483   ┆ 0.874975   │\n",
       "│ 169     ┆ 848     ┆ 30        ┆ 0.768528 ┆ … ┆ 1.846634   ┆ -0.088542  ┆ -0.008324  ┆ -0.153451  │\n",
       "│ 169     ┆ 848     ┆ 33        ┆ 1.354696 ┆ … ┆ -3.349107  ┆ -0.407801  ┆ -0.185842  ┆ -0.931004  │\n",
       "│ 169     ┆ 848     ┆ 34        ┆ 1.021797 ┆ … ┆ 3.248694   ┆ 0.254584   ┆ 0.090288   ┆ 0.434726   │\n",
       "│ 169     ┆ 848     ┆ 38        ┆ 1.570022 ┆ … ┆ -0.791345  ┆ 0.3474     ┆ 0.241875   ┆ 0.987731   │\n",
       "└─────────┴─────────┴───────────┴──────────┴───┴────────────┴────────────┴────────────┴────────────┘"
      ]
     },
     "execution_count": 5,
     "metadata": {},
     "output_type": "execute_result"
    }
   ],
   "source": [
    "pl.read_parquet('../../../dataset/jane-street-real-time-market-data-forecasting/train.parquet/partition_id=0/part-0.parquet')"
   ]
  },
  {
   "cell_type": "code",
   "execution_count": null,
   "id": "0439441b-7be8-4a32-bfdf-2f006fe879db",
   "metadata": {},
   "outputs": [],
   "source": []
  }
 ],
 "metadata": {
  "kernelspec": {
   "display_name": "Python 3 (ipykernel)",
   "language": "python",
   "name": "python3"
  },
  "language_info": {
   "codemirror_mode": {
    "name": "ipython",
    "version": 3
   },
   "file_extension": ".py",
   "mimetype": "text/x-python",
   "name": "python",
   "nbconvert_exporter": "python",
   "pygments_lexer": "ipython3",
   "version": "3.8.10"
  }
 },
 "nbformat": 4,
 "nbformat_minor": 5
}

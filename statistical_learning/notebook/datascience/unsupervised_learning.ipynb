{
 "cells": [
  {
   "cell_type": "code",
   "execution_count": 1,
   "id": "7cf30c10-e4c2-40e0-af57-5f345a69842e",
   "metadata": {},
   "outputs": [],
   "source": [
    "import numpy as np\n",
    "from scipy import optimize\n",
    "import matplotlib.pyplot as plt"
   ]
  },
  {
   "cell_type": "code",
   "execution_count": null,
   "id": "3185b5a1-e794-4a69-90aa-c788c3a9857f",
   "metadata": {},
   "outputs": [],
   "source": [
    "class KDE:\n",
    "    \n",
    "    def __init__(self, data, n=2**14, MIN=None, MAX=None, plot=False, label=[]):\n",
    "        self.data = data\n",
    "        self.n = n\n",
    "        self.MIN = MIN\n",
    "        self.MAX = MAX\n",
    "        self.plot = plot\n",
    "        self.label = label\n",
    "        \n",
    "    "
   ]
  }
 ],
 "metadata": {
  "kernelspec": {
   "display_name": "Python 3 (ipykernel)",
   "language": "python",
   "name": "python3"
  },
  "language_info": {
   "codemirror_mode": {
    "name": "ipython",
    "version": 3
   },
   "file_extension": ".py",
   "mimetype": "text/x-python",
   "name": "python",
   "nbconvert_exporter": "python",
   "pygments_lexer": "ipython3",
   "version": "3.8.10"
  }
 },
 "nbformat": 4,
 "nbformat_minor": 5
}

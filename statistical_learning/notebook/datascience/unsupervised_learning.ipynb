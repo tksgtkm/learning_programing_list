{
 "cells": [
  {
   "cell_type": "code",
   "execution_count": 1,
   "id": "7cf30c10-e4c2-40e0-af57-5f345a69842e",
   "metadata": {},
   "outputs": [],
   "source": [
    "import numpy as np\n",
    "from scipy import optimize\n",
    "import matplotlib.pyplot as plt"
   ]
  },
  {
   "cell_type": "code",
   "execution_count": 7,
   "id": "3185b5a1-e794-4a69-90aa-c788c3a9857f",
   "metadata": {},
   "outputs": [],
   "source": [
    "class KDE:\n",
    "    \n",
    "    def __init__(self, data, n=2**14, MIN=None, MAX=None, label=[]):\n",
    "        self.data = data\n",
    "        self.n = n\n",
    "        self.MIN = MIN\n",
    "        self.MAX = MAX\n",
    "        self.label = label\n",
    "        \n",
    "    # 補助関数\n",
    "    def _fixed_point(self, t, N, I, a2):\n",
    "        l = 7\n",
    "        f = 2*np.pi**(2*l) * sum(I**l*a2*np.exp(-I*np.pi**2*t))\n",
    "        \n",
    "        for s in range(l-1, 1, -1):\n",
    "            Ko = np.prod(range(1, 2*s, 2))/np.sqrt(2*np.pi)\n",
    "            const = (1+(1/2)**(s+1/2))/3\n",
    "            time = (2*const*Ko/N/f)**(2/(3+2*s))\n",
    "            f = 2*np.pi**(2*s)*sum(I**s*a2*np.exp(-I*np.pi**2*time))\n",
    "            \n",
    "        return t-(2*N*np.sqrt(np.pi)*f)**(-2/5)\n",
    "    \n",
    "    def _dct1d(self, data):\n",
    "        nrows = len(data)\n",
    "        weight = 2*(np.exp(-1j*np.array(range(1, nrows))*np.pi/(2*nrows)))\n",
    "        weight = np.append(1, weight)\n",
    "        data = np.append(data[::2], data[:0:-2])\n",
    "        data = (weight*np.fft.fft(data)).real\n",
    "        \n",
    "        return data\n",
    "    \n",
    "    def _idct1d(self, data):\n",
    "        nrows = len(data)\n",
    "        weights = nrows*np.exp(1j*(np.arange(nrows))*np.pi/(2*nrows))\n",
    "        data = np.real(np.fft.ifft(weights * data))\n",
    "        output = np.arange(nrows, dtype='d')\n",
    "        output[::2] = data[0:int(nrows/2)]\n",
    "        output[1::2] = data[:int(nrows/2)-1:-1]\n",
    "        \n",
    "        return output\n",
    "    \n",
    "    def fit(self):\n",
    "        data = np.array(self.data)\n",
    "        n = int(2**np.ceil(np.log2(self.n)))\n",
    "        \n",
    "        if self.MAX == None or self.MIN == None:\n",
    "            minimum = min(data)\n",
    "            maximum = max(data)\n",
    "            Range = maximum - minimum\n",
    "            \n",
    "            if self.MAX == None:\n",
    "                self.MAX = maximum + Range/10\n",
    "            if self.MIN == None:\n",
    "                self.MIN = minimum - Range/10\n",
    "                \n",
    "        R = self.MAX - self.MIN\n",
    "        dx = R/(n-1)\n",
    "        xmesh = np.arange(self.MIN, self.MAX+dx, dx, dtype='d')\n",
    "        bins = np.append(xmesh, xmesh[-1])\n",
    "        N = len(np.unique(data))\n",
    "        \n",
    "        initial_data = np.histogram(data, bins=bins)[0]/N\n",
    "        initial_data = initial_data/sum(initial_data)\n",
    "        \n",
    "        a = self._dct1d(initial_data)\n",
    "        \n",
    "        I = np.arange(1, n, dtype=\"d\")**2\n",
    "        a2 = (a[1:]/2)**2\n",
    "        \n",
    "        t_star = optimize.root(lambda t: self._fixed_point(t, N, I, a2), 0.05)\n",
    "        if t_star.success == False:\n",
    "            t_star = 0.28*N**(-2/5)\n",
    "        else:\n",
    "            t_star = t_star.x\n",
    "        a_t = a*np.exp(-np.arange(0, n, dtype=\"d\")**2*np.pi**2*t_star/2)\n",
    "        \n",
    "        density = self._idct1d(a_t)/R\n",
    "        bandswith = np.sqrt(t_star)*R\n",
    "        \n",
    "        f = 2*np.pi**2*sum(I*a2*np.exp(-I*np.pi**2*t_star))\n",
    "        t_cdf = (np.sqrt(np.pi)*f*N)**(-2/3)\n",
    "        \n",
    "        a_cdf = a*np.exp(-np.arange(0, n, dtype=\"d\")**2*np.pi**2*t_cdf/2)\n",
    "        cdf = np.cumsum(self._idct1d(a_cdf))*(dx/R)\n",
    "        bandswith_cdf = np.sqrt(t_cdf)*R\n",
    "        \n",
    "        return bandswith, density, xmesh, cdf\n",
    "    \n",
    "    def plot(self, xmesh, density, plot=False):\n",
    "        if plot == True:\n",
    "            if self.label:\n",
    "                plt.plot(xmesh, density, label=self.label)\n",
    "                plt.legend()\n",
    "            else:\n",
    "                plt.plot(xmesh, density)\n",
    "            plt.ylim(bottom=0)\n",
    "            "
   ]
  },
  {
   "cell_type": "code",
   "execution_count": 8,
   "id": "fcb44df0-9cda-4925-85c4-9f13c4e62ba7",
   "metadata": {},
   "outputs": [
    {
     "data": {
      "image/png": "[encoded data removed]",
      "text/plain": [
       "<Figure size 432x216 with 1 Axes>"
      ]
     },
     "metadata": {
      "needs_background": "light"
     },
     "output_type": "display_data"
    }
   ],
   "source": [
    "np.random.seed(1234)\n",
    "h = 0.1\n",
    "h2 = h**2\n",
    "c = 1/np.sqrt(2*np.pi)/h\n",
    "phi = lambda x, x0: np.exp(-(x-x0)**2/(2*h2))\n",
    "f = lambda x: np.exp(-x)*(x >= 0)\n",
    "n = 10**4\n",
    "x = -np.log(np.random.uniform(size=n))\n",
    "xx = np.arange(-0.5, 6, 0.01, dtype=\"d\")\n",
    "phis = np.zeros(len(xx))\n",
    "for i in range(0, n):\n",
    "    phis = phis + phi(xx, x[i])\n",
    "phis = c*phis/n\n",
    "\n",
    "plt.figure(figsize=[6, 3])\n",
    "plt.plot(xx, phis, 'r')\n",
    "\n",
    "kde = KDE(x, 2**12, 0, max(x))\n",
    "bandswith, density, xmesh, cdf = kde.fit()\n",
    "\n",
    "kde.plot(xmesh, density)\n",
    "\n",
    "idx = (xmesh <= 6)\n",
    "plt.plot(xmesh[idx], density[idx], 'b')\n",
    "plt.plot(xx, f(xx), 'k--')\n",
    "plt.legend(['Gaussian KDE','Theta KDE', 'True density'])\n",
    "plt.show()"
   ]
  },
  {
   "cell_type": "code",
   "execution_count": 9,
   "id": "cfed2e01-e7bd-4c11-a2b9-2d0a5e8cc014",
   "metadata": {},
   "outputs": [],
   "source": [
    "from scipy.stats import multivariate_normal"
   ]
  },
  {
   "cell_type": "code",
   "execution_count": 10,
   "id": "c35ffc49-780b-4595-885f-eedb942ea25f",
   "metadata": {},
   "outputs": [
    {
     "name": "stdout",
     "output_type": "stream",
     "text": [
      "[[0.33033004 0.32063338 0.34903658]]\n"
     ]
    }
   ],
   "source": [
    "Xmat = np.genfromtxt('../../csv/clusterdata.csv', delimiter=',')\n",
    "K = 3\n",
    "n, D = Xmat.shape\n",
    "\n",
    "W = np.array([[1/3,1/3,1/3]])\n",
    "M  = np.array([[-2.0,-4,0],[-3,1,-1]])\n",
    "C = np.zeros((3,2,2))\n",
    "\n",
    "C[:,0,0] = 1\n",
    "C[:,1,1] = 1\n",
    "\n",
    "p = np.zeros((3, 300))\n",
    "\n",
    "for i in range(0, 100):\n",
    "    for k in range(0, K):\n",
    "        mvn = multivariate_normal(M[:,k].T, C[k,:,:])\n",
    "        p[k,:] = W[0,k]*mvn.pdf(Xmat)\n",
    "        \n",
    "    p = p/sum(p, 0)\n",
    "    \n",
    "    W = np.mean(p, 1).reshape(1, 3)\n",
    "    for k in range(0, K):\n",
    "        M[:,k] = (Xmat.T @ p[k,:].T)/sum(p[k,:])\n",
    "        xm = Xmat.T - M[:,k].reshape(2, 1)\n",
    "        C[k,:,:] = xm @ (xm*p[k,:]).T/sum(p[k,:])\n",
    "        \n",
    "print(W)"
   ]
  },
  {
   "cell_type": "code",
   "execution_count": null,
   "id": "04d5d3fb-a928-44c0-9d97-7ffbcd3dcb9f",
   "metadata": {},
   "outputs": [],
   "source": []
  }
 ],
 "metadata": {
  "kernelspec": {
   "display_name": "Python 3",
   "language": "python",
   "name": "python3"
  },
  "language_info": {
   "codemirror_mode": {
    "name": "ipython",
    "version": 3
   },
   "file_extension": ".py",
   "mimetype": "text/x-python",
   "name": "python",
   "nbconvert_exporter": "python",
   "pygments_lexer": "ipython3",
   "version": "3.8.10"
  }
 },
 "nbformat": 4,
 "nbformat_minor": 5
}
